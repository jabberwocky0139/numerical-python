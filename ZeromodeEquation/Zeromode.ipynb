{
 "cells": [
  {
   "cell_type": "markdown",
   "metadata": {},
   "source": [
    "Zeromode方程式を解こう！\n",
    "========================\n",
    "\n",
    "概要\n",
    "---------\n",
    "「Mastering Modern Conception of Quantum Field Theory : 第3章 ゼロモード」にある数値計算の解説. そんなに難しくないように見えて割と落とし穴があるので注意. "
   ]
  },
  {
   "cell_type": "code",
   "execution_count": 162,
   "metadata": {
    "collapsed": true
   },
   "outputs": [],
   "source": [
    "# Jupyterの(ry\n",
    "%matplotlib inline\n",
    "\n",
    "# coding: utf-8\n",
    "\n",
    "import numpy as np\n",
    "from scipy import linalg\n",
    "from scipy import optimize\n",
    "from scipy.integrate import simps\n",
    "import matplotlib.pyplot as plt\n",
    "import seaborn as sbn\n",
    "from abc import abstractmethod, ABCMeta"
   ]
  },
  {
   "cell_type": "markdown",
   "metadata": {},
   "source": [
    "Import\n",
    "----------------\n",
    "### `scipy.optimize`\n",
    "数値最適化に関するライブラリ. 今回は２分法`bisect()`を使っています. 他にもいろいろあって, 最急降下法チックなやつとかSteffensenの反復法とか. \n",
    "\n",
    "### `abc`\n",
    "Pythonの抽象クラスライブラリ. 実はPythonの仕様には元々抽象クラスはない. 今回はオブジェクト指向で書くことにしました. "
   ]
  },
  {
   "cell_type": "code",
   "execution_count": 163,
   "metadata": {
    "collapsed": true
   },
   "outputs": [],
   "source": [
    "# --*-- Constants' and variables' class --*--\n",
    "\n",
    "class Variables():\n",
    "    def __init__(self, N):\n",
    "        # -*- Constants on real space -*-\n",
    "        \n",
    "        # Particle number\n",
    "        self.N = N\n",
    "        # Volume\n",
    "        self.V = 1\n",
    "        # Interaction constant\n",
    "        self.g = 1e-3\n",
    "        # Integrals for oder parameter and ajoint parameter\n",
    "        self.A = self.g*self.N**2/self.V\n",
    "        self.B = self.g*self.N/self.V/2\n",
    "        self.C = self.g/self.V/4\n",
    "        self.D = self.g/self.V/self.N/8\n",
    "        self.E = self.g/self.V/self.N**2/16\n",
    "        self.I = self.g/self.V\n",
    "    \n",
    "        # -*- Constant on Zeromode space -*-\n",
    "\n",
    "        # Volume of Zeromode q-space\n",
    "        self.L = 20*(self.N*self.V)**(-1/3)\n",
    "        # Step numbers of Zeromode q-space\n",
    "        self.Nq = 300\n",
    "        # Step size of Zeromode q-space\n",
    "        self.dq = self.L/self.Nq\n",
    "        # Zeromode q-space coordinate\n",
    "        self.q = np.arange(self.Nq)"
   ]
  },
  {
   "cell_type": "markdown",
   "metadata": {},
   "source": [
    "Variables class\n",
    "----------------\n",
    "物理量や系の分割数など. 取り扱う変数が多く, かつどのメソッドがどの変数を要求するのかを把握することが(いずれ有限温度系に拡張すると)困難になる(と思われる)ので, Variablesクラスのインスタンスを参照でブン投げてたらい回しにします. メソッドの引数がシンプルになります. \n",
    "### `N`, `V`, `g`\n",
    "粒子数, 体積, 相互作用定数. 一様系でかつ粒子数が多い場合を相手にしなければならないので, `N`はVよりも大きめに取るのが良い. さもなくば\n",
    "$$\n",
    "<\\Psi| Q^2 |\\Psi> \\simeq N^{-\\frac{1}{3}}\n",
    "$$\n",
    "が成り立たず, `Q^2`が凝縮体の位相を記述できなくなる. \n",
    "どれくらいの値が良いのかは正直あまりよくわからない. ただ物理的にマズい値は取らないようにしましょう(相互作用がでかいとか, `N`が小さいとか). Self-consistentループが収束しない可能性があります. \n",
    "### `A`, `B`, `C`, `D`, `E`, `I`\n",
    "`A`〜`E`は秩序パラメータ・共役パラメータの積分. `I`は共役モードの規格化因子. 詳細は省略. \n",
    "### `L, Nq, dq, q`\n",
    "`L`はゼロモード空間のサイズ. 注意しなければならないのは系の体積`V`とは別物であるということ. そもそも真空は\n",
    "$$\n",
    "|0> = |0>_{ex} \\otimes |\\Psi>\n",
    "$$\n",
    "のようにBdGモードが作る真空とゼロモードが作る真空の直積になっており, それぞれは全くの別物. というわけで`L`はゼロモード空間の`q`-表示\n",
    "$$\n",
    "\\Psi(q) = < q|\\Psi>\n",
    "$$\n",
    "の体積です. 系が3次元になろうとも, ゼロモード空間は1次元のままです. `Nq`, `dq`, `q`はなんとなくわかるでしょう. `L`のサイズ選び方については後述. "
   ]
  },
  {
   "cell_type": "code",
   "execution_count": 164,
   "metadata": {
    "collapsed": true
   },
   "outputs": [],
   "source": [
    "# --*-- Basis class --*--\n",
    "class Procedures(metaclass=ABCMeta):\n",
    "    \n",
    "    # Make Zeromode hamiltonian(Lower triangle)\n",
    "    def __MakeZeromodeHamiltonian(self, v, dmu):\n",
    "\n",
    "        alpha = 3*v.E/v.dq**4 + (v.I -4*v.D)/v.dq**2 + 2*v.C*(v.q-v.Nq/2.0)**2 -2*v.dq**2*v.B*(v.q-v.Nq/2.0)**2 + 0.5*v.dq**4*v.A*(v.q-v.Nq/2.0)**4\n",
    "        beta = -2*v.E/v.dq**4 + 2.0j*v.D/v.dq**3 - 0.5*(v.I - 4*v.D)/v.dq**2 - 0.5j*(dmu + 4*v.C)/v.dq - (v.C - 1j*v.dq*v.B)*(v.q-v.Nq/2)*(v.q-v.Nq/2+1)\n",
    "        gamma = [0.5*v.E/v.dq**4 - 1j*v.D/v.dq**3]*v.Nq\n",
    "        return np.vstack((np.vstack((alpha, beta)), gamma))\n",
    "\n",
    "    \n",
    "    # Solve eigenvalue problem for Zeromode hamiltonian\n",
    "    def ZeromodeEquation(self, v, dmu):\n",
    "        Hqp = self.__MakeZeromodeHamiltonian(v, dmu)\n",
    "        # Only ground state\n",
    "        w, val = linalg.eig_banded(Hqp, lower=True, select=\"i\", select_range=(0, 0), overwrite_a_band=True)\n",
    "        val = val.reshape(v.Nq)\n",
    "        \n",
    "        return val\n",
    "\n",
    "    \n",
    "    # Output expected value of Zeromode operator P\n",
    "    def OutputP(self, v, dmu):\n",
    "        val = self.ZeromodeEquation(v, dmu)\n",
    "\n",
    "        # Check boundary value of Zeromode q-space\n",
    "        if(np.abs(val[0]) > 0.01):\n",
    "            print(\"warning!!!\")\n",
    "        \n",
    "        return np.imag(np.dot(np.conj(val[:-1]),val[1:]))/v.dq\n",
    "\n",
    "    \n",
    "    # Find proper counter term dmu\n",
    "    def SelfConsistent(self, v):\n",
    "        dmu = optimize.bisect(lambda pro_dmu : self.OutputP(v, pro_dmu), -1, 1)\n",
    "        return dmu\n",
    "\n",
    "\n",
    "    def SetPlot(self, plot_x, plot_y, xlim=False, ylim=False, logscale_x=False, logscale_y=False, xlabel=False, ylabel=False, title=False):\n",
    "        plt.plot(plot_x, plot_y)\n",
    "        if(title):\n",
    "            plt.title(title)\n",
    "        if(xlabel):\n",
    "            plt.xlabel(xlabel)\n",
    "        if(ylabel):\n",
    "            plt.ylabel(ylabel)\n",
    "        if(xlim):\n",
    "            plt.xlim(xlim[0], xlim[1])\n",
    "        if(ylim):\n",
    "            plt.ylim(ylim[0], ylim[1])\n",
    "        if(logscale_x):\n",
    "            plt.xscale(\"log\")\n",
    "        if(logscale_y):\n",
    "            plt.yscale(\"log\")\n",
    "            \n",
    "        plt.show()\n",
    "\n",
    "    # Use this method with inheritance\n",
    "    @abstractmethod\n",
    "    def Procedure(self, N):\n",
    "        pass"
   ]
  },
  {
   "cell_type": "markdown",
   "metadata": {},
   "source": [
    "Procedures class\n",
    "-----------------\n",
    "このクラスは`ABCmeta`を継承している抽象クラスです. つまりこいつは単体で呼ばずに継承して呼ぶことになります. このあとで物理量を計算するクラスを作りますが, そいつらはみんなこのクラスを継承することになります. \n",
    "### __MakeZeromodeHamiltonian()\n",
    "ゼロモードハミルトニアンを作る. あとで`linalg.eig_banded` に`Lower`で格納するので, 「Matering...」にあるα, β, γの複素共役をとっていることに注意. 格納の方法は見たまんまですが, もしよくわからなければSciPyのマニュアルを参考にしてください. \n",
    "```\n",
    "lower form:\n",
    "a00 a11 a22 a33 a44 a55\n",
    "a10 a21 a32 a43 a54 *\n",
    "a20 a31 a42 a53 *   *\n",
    "```\n",
    "こんなかんじ. ちなみにこのメソッドは直に呼ばずに他のメンバ関数を通して呼ばれるので, 名前の先頭にアンスコ2つ(__)つけてPrivateにしています. \n",
    "\n",
    "`q`の意味に注意してください. `q`は`q`-空間の長さの次元を持つものではなく, どちらかというと分割のインデックスにあたります. 是非しっかりと「Mastering...」の計算を追って意味を確認してください. \n",
    "\n",
    "### ZeromodeEquation()\n",
    "ゼロモード方程式を解いて固有ベクトルを(今回はいらないけど固有値も)求めています. もしももっと速度が欲しければ`scipy.sparse.linalg` を使うといいと思います. ARPACKのラッパーなので超速いと思います. \n",
    "\n",
    "### OutputP()\n",
    "内部で`ZeromodeEquation()`を回して固有状態を求め, それを使ってPの期待値を求めます. ここでは一応固有ベクトルの境界値チェックをしています. これも後述. \n",
    "\n",
    "### SelfConsistent()\n",
    "分割条件を満たすためにはPの期待値がゼロにならなければいけないので`OutputP()`を二分法`optimize.bisect()`に渡してPの期待値がゼロになる`dmu`を探します. 二分法の幅は適当に設定しています. だいたいゼロ付近にあります(雑).  \n",
    "\n",
    "### SetPlot()\n",
    "プロット用の関数です. 省略. \n",
    "\n",
    "### Procedure()\n",
    "今後このクラスを継承するときは`Procedure()`をオーバーライドしてください, ということです. つまり, `Q2`を求めるクラスも, ゼロモード固有関数を求めるクラスも, みんな`Procedure()`という名前の関数を持っていることになります. "
   ]
  },
  {
   "cell_type": "code",
   "execution_count": 165,
   "metadata": {
    "collapsed": false
   },
   "outputs": [],
   "source": [
    "class OutputP_Mu(Procedures):\n",
    "\n",
    "    # Set range of dmu\n",
    "    def __init__(self, start=-0.5, end=0.5):\n",
    "        self.start = start\n",
    "        self.end = end\n",
    "\n",
    "    def Procedure(self, N):\n",
    "        v = Variables(N)\n",
    "        ans = []\n",
    "        ran = [self.start, self.end]\n",
    "        for n, dmu in enumerate(np.linspace(ran[0], ran[1], 1000)):\n",
    "            ans.append(self.OutputP(v, dmu))\n",
    "            #print(n, \", \", end=\"\", flush=True)\n",
    "\n",
    "        self.SetPlot(plot_x=np.linspace(ran[0], ran[1], 1000), plot_y=ans, xlim=ran, xlabel=\"dμ\", ylabel=\"P\", title=\"Expected value P for counter term dμ\")\n",
    "\n",
    "        \n",
    "class OutputZeromodeGroundFunction(Procedures):\n",
    "\n",
    "    # Set free pro_dmu\n",
    "    def __init__(self, pro_dmu=False):\n",
    "        self.pro_dmu = pro_dmu\n",
    "        \n",
    "    def Procedure(self, N):\n",
    "        v = Variables(N)\n",
    "        if(self.pro_dmu):\n",
    "            dmu = self.pro_dmu\n",
    "        else:\n",
    "            dmu = self.SelfConsistent(v)\n",
    "        val = self.ZeromodeEquation(v, dmu)\n",
    "        \n",
    "        self.SetPlot(plot_x=v.q, plot_y=np.abs(val)**2, xlabel=\"q\", ylabel=\"Psi_0\", title=\"Zeromode ground function for a dmu\") \n",
    "        self.SetPlot(plot_x=v.q, plot_y=np.imag(val)**2, xlabel=\"q\", ylabel=\"Psi_0\", title=\"imag part of Zeromode ground function\") # debug\n",
    "        self.SetPlot(plot_x=v.q, plot_y=np.real(val)**2, xlabel=\"q\", ylabel=\"Psi_0\", title=\"real part of Zeromode ground function\") # debug\n",
    "        self.SetPlot(plot_x=v.q, plot_y=np.real(val)**2 + np.imag(val)**2, xlabel=\"q\", ylabel=\"Psi_0\", title=\"Zeromode ground function\") # debug\n",
    "        \n",
    "        \n",
    "class OutputQ2_N(Procedures):\n",
    "\n",
    "    # Set range of N which is power of 10 (like 10^N)\n",
    "    def __init__(self, N_start=2, N_end=4):\n",
    "        self.N_start = N_start\n",
    "        self.N_end = N_end\n",
    "    \n",
    "    def Procedure(self, N=None):\n",
    "        arr_Q2 = []\n",
    "        arr_N = np.logspace(self.N_start, self.N_end, num=100)\n",
    "        for N in arr_N:\n",
    "            v = Variables(N)\n",
    "            dmu = self.SelfConsistent(v)\n",
    "            val = self.ZeromodeEquation(v, dmu)\n",
    "            #print(\"N = {1}, dmu = {0}\".format(dmu, N))\n",
    "            arr_Q2.append(np.sqrt(v.dq**2*(np.sum(np.abs((v.q-v.Nq/2)*val)**2))))\n",
    "\n",
    "        self.SetPlot(plot_x=arr_N, plot_y=arr_Q2, xlim=(arr_N[0], arr_N[-1]), ylim=(0.01, 1), logscale_x=True, logscale_y=True, xlabel=\"N\", ylabel=\"Q^2\", title=\"Expected value Q^2 for N\")"
   ]
  },
  {
   "cell_type": "markdown",
   "metadata": {},
   "source": [
    "OutputP_Mu　class\n",
    "-------------------------\n",
    "`dmu`に対する`P`を出力します. 先ほど`bisect`で探索範囲を雑に指定しましたが, 全く適当というわけではないです. OutputP_Mu.Procedure()でグラフを描いてあたりをつけています. \n",
    "\n",
    "OutputZeromodeGroundFunction class\n",
    "----------------------------------\n",
    "ゼロモード基底関数を出力します. dmuは自分で適当な値を与えることも, on-shellのdmuを選ぶこともできます. \n",
    "\n",
    "OutputQ2_N class\n",
    "-------------------------\n",
    "粒子数Nに対するQ2の期待値を出力します. \n"
   ]
  },
  {
   "cell_type": "code",
   "execution_count": 166,
   "metadata": {
    "collapsed": false
   },
   "outputs": [
    {
     "data": {
      "image/png": "[encoded data removed]",
      "text/plain": [
       "<matplotlib.figure.Figure at 0x7f173b474208>"
      ]
     },
     "metadata": {},
     "output_type": "display_data"
    }
   ],
   "source": [
    "PMu = OutputP_Mu()\n",
    "PMu.Procedure(N=1e5)"
   ]
  },
  {
   "cell_type": "markdown",
   "metadata": {},
   "source": [
    "dmu-Pグラフを出力してみました. 原点付近に`P=0`のポイントが見つかるでしょう. これなら[-1, 1]よりももっと狭い範囲を用意しても良さそうです"
   ]
  },
  {
   "cell_type": "code",
   "execution_count": null,
   "metadata": {
    "collapsed": false
   },
   "outputs": [
    {
     "data": {
      "image/png": "[encoded data removed]",
      "text/plain": [
       "<matplotlib.figure.Figure at 0x7f173b2bbcf8>"
      ]
     },
     "metadata": {},
     "output_type": "display_data"
    },
    {
     "data": {
      "image/png": "[encoded data removed]",
      "text/plain": [
       "<matplotlib.figure.Figure at 0x7f17400b3b38>"
      ]
     },
     "metadata": {},
     "output_type": "display_data"
    },
    {
     "data": {
      "image/png": "[encoded data removed]",
      "text/plain": [
       "<matplotlib.figure.Figure at 0x7f173b2f8be0>"
      ]
     },
     "metadata": {},
     "output_type": "display_data"
    },
    {
     "data": {
      "image/png": "[encoded data removed]",
      "text/plain": [
       "<matplotlib.figure.Figure at 0x7f173b275f98>"
      ]
     },
     "metadata": {},
     "output_type": "display_data"
    }
   ],
   "source": [
    "Zero = OutputZeromodeGroundFunction()\n",
    "Zero.Procedure(N=1e5)"
   ]
  },
  {
   "cell_type": "markdown",
   "metadata": {},
   "source": [
    "ゼロモード固有関数を出力しました. ガウシアンっぽいグラフが出力されていることがわかります. 「Mastering...」にあるとおり, Leading termが\n",
    "$$\n",
    "H_{Lead} = \\frac{1}{2}IP^2 + \\frac{1}{4}AQ^4\n",
    "$$\n",
    "であるのでよい結果といえるでしょう. ゼロモード空間の幅も十分に取れていることがわかります. "
   ]
  },
  {
   "cell_type": "code",
   "execution_count": null,
   "metadata": {
    "collapsed": false
   },
   "outputs": [],
   "source": [
    "Q2 = OutputQ2_N()\n",
    "Q2.Procedure()"
   ]
  },
  {
   "cell_type": "markdown",
   "metadata": {},
   "source": [
    "この結果は鳥居の卒論の結果を再現しています. 傾きは`-1/3`くらいなのでよい結果です. "
   ]
  },
  {
   "cell_type": "markdown",
   "metadata": {},
   "source": [
    "Note\n",
    "-------------------\n",
    "・鳥居の卒論ではゼロモード演算子を用いてFock空間(もちろん, ゼロモードハミルトニアンの固有状態ではない)を構成し, 粒子数状態で行列表示して計算しています. そんなに難しくないので, 誰か粒子数状態で計算してみてください. \n",
    "\n",
    "・ゼロモードの奇数次を含まない定式化ではdmuが現れないのでSelf-consistentループを回す必要がないので計算が非常に簡単になります. 簡単なのでだれかやってみてください. 上の結果が再現されることを願っております. "
   ]
  },
  {
   "cell_type": "markdown",
   "metadata": {},
   "source": [
    "Hint\n",
    "-------------\n",
    "### ゼロモード固有関数\n",
    "先程は「ガウシアンっぽい...」と書きましたが, もちろん正確なガウシアンではありません. リーディングな項が`Q`の4乗であればガウシアンっぽくなるでしょう, ということに過ぎません. 逆に言えば, `A`〜`E`及び`I`のパラメータの大小によっては効いてくる項が代わり, 全くガウシアンに似ていないグラフが出力される可能性もあるということです. 例えば..."
   ]
  },
  {
   "cell_type": "code",
   "execution_count": null,
   "metadata": {
    "collapsed": false
   },
   "outputs": [],
   "source": [
    "Zero = OutputZeromodeGroundFunction(pro_dmu=-1)\n",
    "Zero.Procedure(N=1e4)"
   ]
  },
  {
   "cell_type": "markdown",
   "metadata": {},
   "source": [
    "みたいな. もちろんこれは`on-shell`のdmuでこのような固有関数が出てくるかどうかはわかりません. ゼロモードの総合不安定性解析をやる人は少し気にすべきことかもしれません."
   ]
  },
  {
   "cell_type": "markdown",
   "metadata": {},
   "source": [
    "### ゼロモード空間のサイズ\n",
    "ゼロモード固有関数の幅は, もしこれをガウシアンみたいなものだと思えば`Q2`のサイズに比例するので`N`の`-1/3`乗のオーダーを持ちます. それを見越して`L`の設定をしました. もちろん`N`の値によって`L`も変更されるべきなので`N`を変更するごとにVariablesのインスタンスも再生成しています. \n",
    "\n",
    "ここで, もう少し小さく, かつ`N`に対して動的に変更しないような`L`を選択してしまったとしましょう:"
   ]
  },
  {
   "cell_type": "code",
   "execution_count": null,
   "metadata": {
    "collapsed": true
   },
   "outputs": [],
   "source": [
    "# --*-- Constants' and variables' class --*--\n",
    "\n",
    "class Variables():\n",
    "    def __init__(self, N):\n",
    "        # -*- Constants on real space -*-\n",
    "        \n",
    "        # Particle number\n",
    "        self.N = N\n",
    "        # Volume\n",
    "        self.V = 1\n",
    "        # Interaction constant\n",
    "        self.g = 1e-3\n",
    "        # Integrals for oder parameter and ajoint parameter\n",
    "        self.A = self.g*self.N**2/self.V\n",
    "        self.B = self.g*self.N/self.V/2\n",
    "        self.C = self.g/self.V/4\n",
    "        self.D = self.g/self.V/self.N/8\n",
    "        self.E = self.g/self.V/self.N**2/16\n",
    "        self.I = self.g/self.V\n",
    "    \n",
    "        # -*- Constant on Zeromode space -*-\n",
    "\n",
    "        # Volume of Zeromode q-space\n",
    "        self.L = 0.1 # Small and fixed\n",
    "        # Step numbers of Zeromode q-space\n",
    "        self.Nq = 200\n",
    "        # Step size of Zeromode q-space\n",
    "        self.dq = self.L/self.Nq\n",
    "        # Zeromode q-space coordinate\n",
    "        self.q = np.arange(self.Nq)"
   ]
  },
  {
   "cell_type": "markdown",
   "metadata": {},
   "source": [
    "このとき`Psi`は"
   ]
  },
  {
   "cell_type": "code",
   "execution_count": null,
   "metadata": {
    "collapsed": false
   },
   "outputs": [],
   "source": [
    "Zero = OutputZeromodeGroundFunction()\n",
    "Zero.Procedure(N=1e4)"
   ]
  },
  {
   "cell_type": "markdown",
   "metadata": {},
   "source": [
    "のように窮屈な形になってしまいます. これはあまりよい系の選び方とは言えないでしょう.\n",
    "\n",
    "さらに次は`V, g`を変更したこんな系を用意します:"
   ]
  },
  {
   "cell_type": "code",
   "execution_count": null,
   "metadata": {
    "collapsed": true
   },
   "outputs": [],
   "source": [
    "# --*-- Constants' and variables' class --*--\n",
    "\n",
    "class Variables():\n",
    "    def __init__(self, N):\n",
    "        # -*- Constants on real space -*-\n",
    "        \n",
    "        # Particle number\n",
    "        self.N = N\n",
    "        # Volume\n",
    "        self.V = 1e4\n",
    "        # Interaction constant\n",
    "        self.g = 1e-6\n",
    "        # Integrals for oder parameter and ajoint parameter\n",
    "        self.A = self.g*self.N**2/self.V\n",
    "        self.B = self.g*self.N/self.V/2\n",
    "        self.C = self.g/self.V/4\n",
    "        self.D = self.g/self.V/self.N/8\n",
    "        self.E = self.g/self.V/self.N**2/16\n",
    "        self.I = self.g/self.V\n",
    "    \n",
    "        # -*- Constant on Zeromode space -*-\n",
    "\n",
    "        # Volume of Zeromode q-space\n",
    "        self.L = 1\n",
    "        # Step numbers of Zeromode q-space\n",
    "        self.Nq = 100\n",
    "        # Step size of Zeromode q-space\n",
    "        self.dq = self.L/self.Nq\n",
    "        # Zeromode q-space coordinate\n",
    "        self.q = np.arange(self.Nq)"
   ]
  },
  {
   "cell_type": "code",
   "execution_count": null,
   "metadata": {
    "collapsed": false
   },
   "outputs": [],
   "source": [
    "Zero = OutputZeromodeGroundFunction()\n",
    "Zero.Procedure(N=1e4)"
   ]
  },
  {
   "cell_type": "markdown",
   "metadata": {},
   "source": [
    "ゼロモード基底状態は悪くなさそうですが..."
   ]
  },
  {
   "cell_type": "code",
   "execution_count": null,
   "metadata": {
    "collapsed": false
   },
   "outputs": [],
   "source": [
    "PMu = OutputP_Mu()\n",
    "PMu.Procedure(N=1e4)"
   ]
  },
  {
   "cell_type": "markdown",
   "metadata": {},
   "source": [
    "`dmu-P`グラフの動きがピーキー過ぎてヤバイです. これでは適切な`dmu`が選択できているか怪しいものです.\n",
    "\n",
    "このように各グラフはパラメーターの選び方に強く依存し, また適切なパラメーターを選択することはそんなに簡単なことではないです. このようなグラフを常に観察してよいパラメーターを選択しましょう. "
   ]
  }
 ],
 "metadata": {
  "anaconda-cloud": {},
  "kernelspec": {
   "display_name": "Python [Root]",
   "language": "python",
   "name": "Python [Root]"
  },
  "language_info": {
   "codemirror_mode": {
    "name": "ipython",
    "version": 3
   },
   "file_extension": ".py",
   "mimetype": "text/x-python",
   "name": "python",
   "nbconvert_exporter": "python",
   "pygments_lexer": "ipython3",
   "version": "3.5.2"
  }
 },
 "nbformat": 4,
 "nbformat_minor": 0
}
