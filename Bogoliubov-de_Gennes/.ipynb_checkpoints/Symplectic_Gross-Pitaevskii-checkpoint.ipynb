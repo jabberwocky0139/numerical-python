{
 "cells": [
  {
   "cell_type": "markdown",
   "metadata": {},
   "source": [
    "虚時間発展法によるGross-Pitaevskii方程式の定常解\n",
    "======================================================\n",
    "トラップされた凝縮体のソリトン解を求める. 木谷さんの卒論を参考にしてます. \n",
    "\n",
    "小話\n",
    "-----------------------\n",
    "かつて山中研でGP方程式の定常解を求める方法といえば「虚時間発展法をCrank-Nicolson法とGauss-Seidel法で解く」というのが一般的だった. というより, 一般の偏微分方程式の解法ではこれが最もベーシックな方法. これを持ち込んだのは当時B4の中村さん. とはいえ我々が扱うのはHamilton力学系なのでこんなに頑張って差分化せんでもSymplectic法でよくね？というのが現在の山中研のトレンドである. \n",
    "\n",
    "Crank-Nicolson + Gauss-Seidelは過去の遺物として葬り去りたいのが本音. もちろんこっちのが良い場合も時にはあるだろうが..."
   ]
  },
  {
   "cell_type": "code",
   "execution_count": 19,
   "metadata": {
    "collapsed": false
   },
   "outputs": [],
   "source": [
    "#Jupyter(iPython Notebook)のおまじない. 普段は書かないで良い. \n",
    "%matplotlib inline\n",
    "\n",
    "# coding: utf-8\n",
    "\n",
    "import numpy as np\n",
    "from scipy.integrate import simps\n",
    "from scipy.fftpack import fft\n",
    "from scipy.fftpack import ifft\n",
    "from scipy.fftpack import fftfreq\n",
    "import matplotlib.pyplot as plt\n",
    "import seaborn as sbn\n",
    "from scipy.linalg import eigvals\n",
    "from scipy.sparse.linalg import eigs"
   ]
  },
  {
   "cell_type": "markdown",
   "metadata": {},
   "source": [
    "TDSE+TDGPの章で説明したものは省略. \n",
    "\n",
    "### `scipy.integrate.simps()`\n",
    "`scipy.integrate.quad()`と違い, 引数に`iterable`を取れる. 関数を離散化した後に積分したい時に.\n",
    "### `matplotlib` \n",
    "`Python`のグラフツール. \n",
    "### `seaborn`\n",
    "`matplotlib`の化粧箱. 見目を麗しくしてくれます. importするだけできれいになります. これ自体にも色々な機能があるっぽいですが今回は省略. ふつーのグラフしか書かないので. \n"
   ]
  },
  {
   "cell_type": "code",
   "execution_count": 48,
   "metadata": {
    "collapsed": false
   },
   "outputs": [
    {
     "name": "stdout",
     "output_type": "stream",
     "text": [
      "[ 0.  0.  0. ...,  0.  0.  0.]\n",
      "[ -1.82872091e-12  -1.71787018e-12  -1.34303679e-12 ...,   1.21274976e-12\n",
      "   1.31890088e-12   1.44675884e-12]\n",
      "[ -2.00443239e-12  -1.33094193e-12  -1.26456828e-12 ...,   9.59305226e-13\n",
      "   1.22753812e-12   1.36020129e-12]\n",
      "[ -1.59166551e-12  -1.36424224e-12  -1.36424107e-12 ...,   1.24142890e-12\n",
      "   1.37293643e-12   1.47074840e-12]\n",
      "[ -1.31865650e-12  -1.15140632e-12  -1.12443388e-12 ...,   8.20559291e-13\n",
      "   8.68678572e-13   1.07792881e-12]\n",
      "[ -1.81909420e-12  -1.23835898e-12  -1.23763608e-12 ...,   1.49809315e-12\n",
      "   1.59096651e-12   1.64441906e-12]\n",
      "[ -1.27004670e-12  -1.24048811e-12  -1.16288815e-12 ...,   1.18792866e-12\n",
      "   1.25760966e-12   2.13913396e-12]\n",
      "[ -1.11981442e-12  -9.62286813e-13  -9.16035277e-13 ...,   1.24128042e-12\n",
      "   1.32753357e-12   1.59932326e-12]\n",
      "[ -1.45846791e-12  -1.42246306e-12  -1.32210004e-12 ...,   1.17875504e-12\n",
      "   1.36423409e-12   1.49123102e-12]\n",
      "[ -1.38026465e-12  -1.25030867e-12  -1.00744151e-12 ...,   1.15359409e-12\n",
      "   1.25111727e-12   1.52065407e-12]\n"
     ]
    },
    {
     "ename": "KeyboardInterrupt",
     "evalue": "",
     "output_type": "error",
     "traceback": [
      "\u001b[1;31m---------------------------------------------------------------------------\u001b[0m",
      "\u001b[1;31mKeyboardInterrupt\u001b[0m                         Traceback (most recent call last)",
      "\u001b[1;32m<ipython-input-48-e832cfee99c5>\u001b[0m in \u001b[0;36m<module>\u001b[1;34m()\u001b[0m\n\u001b[0;32m     82\u001b[0m     \u001b[1;32mexcept\u001b[0m\u001b[1;33m:\u001b[0m\u001b[1;33m\u001b[0m\u001b[0m\n\u001b[0;32m     83\u001b[0m     \"\"\"\n\u001b[1;32m---> 84\u001b[1;33m     \u001b[0mw\u001b[0m \u001b[1;33m=\u001b[0m \u001b[0mnp\u001b[0m\u001b[1;33m.\u001b[0m\u001b[0mimag\u001b[0m\u001b[1;33m(\u001b[0m\u001b[0meigvals\u001b[0m\u001b[1;33m(\u001b[0m\u001b[0mTd\u001b[0m\u001b[1;33m,\u001b[0m \u001b[0moverwrite_a\u001b[0m\u001b[1;33m=\u001b[0m\u001b[1;32mTrue\u001b[0m\u001b[1;33m)\u001b[0m\u001b[1;33m)\u001b[0m\u001b[1;33m\u001b[0m\u001b[0m\n\u001b[0m\u001b[0;32m     85\u001b[0m     \u001b[0mw\u001b[0m\u001b[1;33m.\u001b[0m\u001b[0msort\u001b[0m\u001b[1;33m(\u001b[0m\u001b[1;33m)\u001b[0m\u001b[1;33m\u001b[0m\u001b[0m\n\u001b[0;32m     86\u001b[0m     \u001b[0mprint\u001b[0m\u001b[1;33m(\u001b[0m\u001b[0mw\u001b[0m\u001b[1;33m)\u001b[0m\u001b[1;33m\u001b[0m\u001b[0m\n",
      "\u001b[1;32m/usr/local/lib/python3.5/dist-packages/scipy/linalg/decomp.py\u001b[0m in \u001b[0;36meigvals\u001b[1;34m(a, b, overwrite_a, check_finite)\u001b[0m\n\u001b[0;32m    606\u001b[0m     \"\"\"\n\u001b[0;32m    607\u001b[0m     return eig(a, b=b, left=0, right=0, overwrite_a=overwrite_a,\n\u001b[1;32m--> 608\u001b[1;33m                check_finite=check_finite)\n\u001b[0m\u001b[0;32m    609\u001b[0m \u001b[1;33m\u001b[0m\u001b[0m\n\u001b[0;32m    610\u001b[0m \u001b[1;33m\u001b[0m\u001b[0m\n",
      "\u001b[1;32m/usr/local/lib/python3.5/dist-packages/scipy/linalg/decomp.py\u001b[0m in \u001b[0;36meig\u001b[1;34m(a, b, left, right, overwrite_a, overwrite_b, check_finite)\u001b[0m\n\u001b[0;32m    168\u001b[0m                                \u001b[0mcompute_vl\u001b[0m\u001b[1;33m=\u001b[0m\u001b[0mcompute_vl\u001b[0m\u001b[1;33m,\u001b[0m\u001b[1;33m\u001b[0m\u001b[0m\n\u001b[0;32m    169\u001b[0m                                \u001b[0mcompute_vr\u001b[0m\u001b[1;33m=\u001b[0m\u001b[0mcompute_vr\u001b[0m\u001b[1;33m,\u001b[0m\u001b[1;33m\u001b[0m\u001b[0m\n\u001b[1;32m--> 170\u001b[1;33m                                overwrite_a=overwrite_a)\n\u001b[0m\u001b[0;32m    171\u001b[0m     \u001b[1;32melse\u001b[0m\u001b[1;33m:\u001b[0m\u001b[1;33m\u001b[0m\u001b[0m\n\u001b[0;32m    172\u001b[0m         wr, wi, vl, vr, info = geev(a1, lwork=lwork,\n",
      "\u001b[1;31mKeyboardInterrupt\u001b[0m: "
     ]
    }
   ],
   "source": [
    "# --*-- Set functions --*--\n",
    "\n",
    "# Set initial function\n",
    "def Psi_0(x):\n",
    "    return x*np.exp(-x**2/2)\n",
    "\n",
    "# Set potential\n",
    "def V(x):\n",
    "    return 25*np.sin(x/5)**2\n",
    "\n",
    "\n",
    "# --*-- Set constants and variables for initial condition --*--\n",
    "\n",
    "# Volume, Maximum x-step\n",
    "L, xN = 16.0, 512\n",
    "\n",
    "# Interaction constant, Chemical potential\n",
    "gN, mu = 50, 10\n",
    "\n",
    "# Maximum time, Time step \n",
    "tMax, tN = 3, 128\n",
    "\n",
    "# x-step, Time step\n",
    "h, dt = L/xN, tMax/tN\n",
    "\n",
    "# Set x-space\n",
    "x = np.linspace(-L/2, L/2, xN)\n",
    "\n",
    "# Set time propagator of poptential term except nonlinear term\n",
    "pre_expV = np.exp(-V(x)*dt)\n",
    "\n",
    "\n",
    "# --*-- Time propagation by symplectic numerical solution --*--\n",
    "\n",
    "imag_igen = []\n",
    "dx2 = h**(-2)\n",
    "# L劣対角成分\n",
    "alpha = np.diag(np.array([dx2]*xN))\n",
    "tmp_alpha = np.vstack((np.array([0]*xN), alpha[:xN-1]))\n",
    "alpha = tmp_alpha + tmp_alpha.T\n",
    "\n",
    "# For-loop on each value of gN\n",
    "arr_gN = np.linspace(0, 30, 30)\n",
    "for gN in arr_gN:\n",
    "    # Set operators for time propagation for every gNs\n",
    "    arr_Psi = Psi_0(x)\n",
    "    expV = np.exp((mu - gN*Psi_0(x)**2)*dt)*pre_expV\n",
    "    expK = np.exp(-(2*np.pi*fftfreq(xN, d=1/xN)/L)**2*dt)\n",
    "    \n",
    "    # Time evolution\n",
    "    for i in range(tN):\n",
    "        # Time evolution\n",
    "        arr_Psi = ifft(fft(arr_Psi*expV)*expK)\n",
    "\n",
    "        # Correction of chemical potential mu\n",
    "        mu -= (simps(arr_Psi**2, x) - 1)/(2*dt)\n",
    "        \n",
    "        # Normalization of order parameter arr_Psi\n",
    "        arr_Psi /= np.sqrt(simps(np.real(arr_Psi**2), x))\n",
    "        \n",
    "        # Reconfigure expV\n",
    "        expV = np.exp((mu - gN*np.abs(arr_Psi)**2)*dt)*pre_expV\n",
    "\n",
    "\n",
    "    # --*-- Bogoliubov-de Gennes equation --*--\n",
    "\n",
    "    # L対角成分\n",
    "    beta = np.diag(dx2 + V(x) - np.real(mu) + 2*gN*np.real(arr_Psi**2))\n",
    "    calL = beta -alpha\n",
    "\n",
    "    # M対角成分\n",
    "    calM = np.diag(gN*arr_Psi**2)\n",
    "    \n",
    "    # BdG行列完成\n",
    "    \n",
    "    #T = np.vstack((np.hstack((calL, calM)), np.hstack((-np.conj(calM), -calL))))\n",
    "    Td = np.vstack((np.hstack((calL, -calM)), np.hstack((np.conj(calM), -calL))))\n",
    "    #\"\"\"\n",
    "    \"\"\"\n",
    "    try:\n",
    "        print(\"{0}, gN={1}\".format(eigs(Td, k=1, which='LI', return_eigenvectors=False, sigma=0)))\n",
    "    except:\n",
    "    \"\"\"\n",
    "    w = np.imag(eigvals(Td, overwrite_a=True))\n",
    "    w.sort()\n",
    "    print(w)\n",
    "    #imag_igen.append(w[0])\n",
    "    #print(\"{0}, gN = {1}\".format(w[0], gN))\n",
    "\n",
    "#plt.plot(arr_gN, imag_igen)"
   ]
  },
  {
   "cell_type": "markdown",
   "metadata": {},
   "source": [
    "あとはもうほぼ前回と同じなので大丈夫でしょう. 今回は化学ポテンシャルの補正を時間発展ごとに加えなければなりません. 粒子数が保存しなければいけないので\n",
    "$$\n",
    "N = \\int dx\\ |\\xi(x, t)|^2\n",
    "$$\n",
    "を満たさなければなりません. そんなわけで虚時間GP方程式の左から秩序変数の複素共役をかけて積分したとき, \n",
    "$$\n",
    "i\\int dx |\\xi(x, t)|^2 = iN = \\int dx[\\xi^*\\partial_x^2\\xi + \\mu|\\xi|^2 - V(x)|\\xi|^2 - gN|\\xi|^4]\n",
    "$$\n",
    "を満たすように化学ポテンシャルを決める必要があります. このお話の詳細は木谷さんの卒論を参考にしてください. "
   ]
  },
  {
   "cell_type": "markdown",
   "metadata": {},
   "source": [
    "Bogoliubov-de Gennes\n",
    "========================\n",
    "今回の結果を用いてBdGを解く. "
   ]
  },
  {
   "cell_type": "markdown",
   "metadata": {},
   "source": [
    "`import`は変えるかも. とりあえず以下でBdG行列を作る. "
   ]
  }
 ],
 "metadata": {
  "kernelspec": {
   "display_name": "Python 3",
   "language": "python",
   "name": "python3"
  },
  "language_info": {
   "codemirror_mode": {
    "name": "ipython",
    "version": 3
   },
   "file_extension": ".py",
   "mimetype": "text/x-python",
   "name": "python",
   "nbconvert_exporter": "python",
   "pygments_lexer": "ipython3",
   "version": "3.5.1+"
  }
 },
 "nbformat": 4,
 "nbformat_minor": 0
}
