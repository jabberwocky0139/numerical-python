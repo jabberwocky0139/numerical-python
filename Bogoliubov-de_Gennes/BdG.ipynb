{
 "cells": [
  {
   "cell_type": "markdown",
   "metadata": {},
   "source": [
    "Bogoliubov-de Gennes方程式を解こう！\n",
    "==================================\n",
    "GPを解いてからそこで得られた秩序変数, ケミカルポテンシャルを用いてBdG行列を構成し, 固有値問題を解く. 不安定性解析の際には固有値虚部が立ち上がるかどうかを確認する."
   ]
  },
  {
   "cell_type": "code",
   "execution_count": 7,
   "metadata": {
    "collapsed": true
   },
   "outputs": [],
   "source": [
    "#Jupyterのおまじない. 普通はいらないです\n",
    "%matplotlib inline\n",
    "\n",
    "# coding: utf-8\n",
    "\n",
    "import numpy as np\n",
    "from scipy.integrate import simps\n",
    "from scipy.fftpack import fft\n",
    "from scipy.fftpack import ifft\n",
    "from scipy.fftpack import fftfreq\n",
    "import matplotlib.pyplot as plt\n",
    "import seaborn as sbn\n",
    "#from scipy.linalg import eigvals\n",
    "from scipy.linalg.lapack import dgeev"
   ]
  },
  {
   "cell_type": "markdown",
   "metadata": {},
   "source": [
    "Import\n",
    "-------------------------\n",
    "`eigval`を使っても`dgeev`を使ってもいいです. \n",
    "`dgeev`は`scipy.linalg`のLow-level function. `eig`とか`eigh`, `eigvals`とかから呼ばれることになる. 今回は明示して使うことにしました. "
   ]
  },
  {
   "cell_type": "code",
   "execution_count": 8,
   "metadata": {
    "collapsed": true
   },
   "outputs": [],
   "source": [
    "# --*-- Set functions --*--\n",
    "\n",
    "# Set initial function\n",
    "def Psi_0(x):\n",
    "    return x*np.exp(-x**2/2)\n",
    "\n",
    "# Set potential\n",
    "def V(x):\n",
    "    return 25*np.sin(x/5)**2\n",
    "\n",
    "\n",
    "# --*-- Set constants and variables for initial condition --*--\n",
    "\n",
    "# Volume, Maximum x-step\n",
    "L, xN = 20.0, 300\n",
    "\n",
    "# Interaction constant, Chemical potential\n",
    "gN, mu = 50, 10\n",
    "\n",
    "# Maximum time, Time step \n",
    "tMax, tN = 7, 1024\n",
    "\n",
    "# x-step, Time step\n",
    "h, dt = L/xN, tMax/tN\n",
    "\n",
    "# Set x-space\n",
    "x = np.linspace(-L/2, L/2, xN)\n",
    "\n",
    "# Set time propagator of poptential term except nonlinear term\n",
    "pre_expV = np.exp(-V(x)*dt)\n",
    "expK = np.exp(-(2*np.pi*fftfreq(xN, d=1/xN)/L)**2*dt)"
   ]
  },
  {
   "cell_type": "markdown",
   "metadata": {},
   "source": [
    "TDGPを解く準備. いつも通りのSymplecticです. 省略. "
   ]
  },
  {
   "cell_type": "code",
   "execution_count": 9,
   "metadata": {
    "collapsed": true
   },
   "outputs": [],
   "source": [
    "# --*-- Gross-Pitaevskii & Bogoliubov-de Gennes --*--\n",
    "\n",
    "# Container of maximum imaginary eigenvalue\n",
    "imag_igen = []\n",
    "\n",
    "# Preparation of sub-diagonal of calL\n",
    "alpha = np.diag(np.array([h**(-2)]*xN))\n",
    "alpha = np.vstack((np.array([0]*xN), alpha[:xN-1]))\n",
    "alpha += alpha.T\n",
    "\n",
    "# For-loop on gN\n",
    "arr_gN = np.linspace(0, 30, 60)\n",
    "for gN in arr_gN:\n",
    "    # -*- Gross-Pitaevskii equation on symplectic -*-\n",
    "    \n",
    "    # Set operators for time propagation for every gNs\n",
    "    arr_Psi = Psi_0(x)\n",
    "    expV = np.exp((mu - gN*Psi_0(x)**2)*dt)*pre_expV\n",
    "    \n",
    "    # Time evolution\n",
    "    for i in range(tN):\n",
    "        # Time evolution\n",
    "        arr_Psi = ifft(fft(arr_Psi*expV)*expK)\n",
    "\n",
    "        # Correction of chemical potential mu\n",
    "        mu -= (simps(np.absolute(arr_Psi)**2, x) - 1)/(2*dt)\n",
    "\n",
    "        # Normalization of order parameter arr_Psi\n",
    "        arr_Psi /= np.sqrt(simps(np.absolute(arr_Psi)**2, x))\n",
    "        \n",
    "        # Reconfigure expV\n",
    "        expV = np.exp((mu - gN*np.absolute(arr_Psi)**2)*dt)*pre_expV\n",
    "    else:\n",
    "        arr_Psi = np.real(arr_Psi).astype(\"float\")\n",
    "\n",
    "    # -*- Bogoliubov-de Gennes equation -*-\n",
    "    \n",
    "    # Sub-diagonal part calL\n",
    "    beta = np.diag(2*h**(-2) + V(x) - mu + 2*gN*arr_Psi**2)\n",
    "    calL = beta - alpha\n",
    "    \n",
    "    # Diagonal part calM\n",
    "    calM = np.diag(gN*arr_Psi**2)\n",
    "    \n",
    "    # BdG matrix\n",
    "    T = np.c_[np.r_[calL, calM], np.r_[-calM, -calL]]\n",
    "\n",
    "    # Calculate eigenvalue problem\n",
    "    wr, wi, vl, vr, info = dgeev(T, compute_vl=0, compute_vr=0, overwrite_a=True)\n",
    "    wi.sort()\n",
    "    imag_igen.append(wi[-1])"
   ]
  },
  {
   "cell_type": "markdown",
   "metadata": {},
   "source": [
    "Bogoliubov-de Gennes行列\n",
    "------------------------------\n",
    "前半はある`gN`についてTDGPを解いているだけ. 省略. \n",
    "後半はまずBdG行列を作るところから. `np.diag()`は対角行列をつくるメソッド. `alpha`はBdGの劣対角成分であり, 対角成分として作ってから行列をスライシングして劣対角成分にしています. \n",
    "`np.c_`, `np.r_`は`ndarray`を連結するメソッド. `np.vstack`, `np.hstack`とほぼ同じだったと思う. \n",
    "\n",
    "固有値問題\n",
    "--------------------------\n",
    "`wr`, `wi`は固有値実部/虚部, `vl`,`vr`は固有ベクトルのレンジ指定(だったかな？). 今回は固有値にしか興味がないので. `vl`,`vr`は無視. `dgeev`がどんなモジュールなのかはLAPACKのマニュアルを見るとよいでしょう. \n",
    " \n",
    " \n",
    " \n",
    "こういう行列の格納や固有値問題を解く作業はC++よりもシンプルにできます. しかも信頼の置けるライブラリに頼っているので高速です. "
   ]
  },
  {
   "cell_type": "code",
   "execution_count": 10,
   "metadata": {
    "collapsed": false
   },
   "outputs": [
    {
     "data": {
      "image/png": "[encoded data removed]",
      "text/plain": [
       "<matplotlib.figure.Figure at 0x7eff96f7b1d0>"
      ]
     },
     "metadata": {},
     "output_type": "display_data"
    }
   ],
   "source": [
    "# --*-- Plot --*--\n",
    "\n",
    "plt.plot(arr_gN, imag_igen)\n",
    "plt.xlim(arr_gN[0], arr_gN[-1])\n",
    "plt.show()"
   ]
  },
  {
   "cell_type": "markdown",
   "metadata": {},
   "source": [
    "問題点\n",
    "-----------------------\n",
    "それっぽいのが出ましたが, 実は木谷さん・足立くんの結果とはどうもずれています. しかも`xN`を少しでも変えるとグラフもガラッと変わってしまいます. コードをじっくり見なおしたのですが勉強不足でどこが間違っているのかよくわかりませんでした. 誰かおしえてください. \n",
    "\n",
    "補足\n",
    "-----------------------\n",
    "今回のコードで最も時間が掛かる作業は当然固有値問題を解くところです. `scipy.linalg`はBLAS・LAPACKを内部で動かしているので, 性能はBLASに依存します. Ubuntuのreference BLASはそんなに優秀ではなく, マルチコアで動作しません. OpenBLAS(旧GotoBLAS)を使いましょう. \n",
    "そんなわけで, SciPyをビルド(pipとかanacondaで)する前にOpenBLASをインストールしておきましょう. そうすればSciPyをビルドするときにOpenBLASを使ってくれます. \n",
    "\n",
    "線形演算時にありったけのスレッドを全力で回してくれるのでとても高速です. "
   ]
  }
 ],
 "metadata": {
  "kernelspec": {
   "display_name": "Python 3",
   "language": "python",
   "name": "python3"
  },
  "language_info": {
   "codemirror_mode": {
    "name": "ipython",
    "version": 3
   },
   "file_extension": ".py",
   "mimetype": "text/x-python",
   "name": "python",
   "nbconvert_exporter": "python",
   "pygments_lexer": "ipython3",
   "version": "3.5.1+"
  }
 },
 "nbformat": 4,
 "nbformat_minor": 0
}
